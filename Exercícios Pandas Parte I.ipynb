{
 "cells": [
  {
   "cell_type": "markdown",
   "metadata": {},
   "source": [
    "# Exercícios Maratona Data Science - Pandas"
   ]
  },
  {
   "cell_type": "markdown",
   "metadata": {},
   "source": [
    "⚫  1- Importe Pandas e printe a versão"
   ]
  },
  {
   "cell_type": "code",
   "execution_count": 18,
   "metadata": {},
   "outputs": [],
   "source": [
    "import pandas as pd"
   ]
  },
  {
   "cell_type": "markdown",
   "metadata": {},
   "source": [
    "⚫2- Crie uma série panda de cada um dos ítens abaixo: uma lista, numpy e um dicionário"
   ]
  },
  {
   "cell_type": "code",
   "execution_count": 8,
   "metadata": {},
   "outputs": [
    {
     "name": "stdout",
     "output_type": "stream",
     "text": [
      "0    a\n",
      "1    b\n",
      "2    c\n",
      "3    e\n",
      "4    d\n",
      "dtype: object\n",
      "0    0\n",
      "1    1\n",
      "2    2\n",
      "3    3\n",
      "4    4\n",
      "dtype: int32\n",
      "a    0\n",
      "b    1\n",
      "c    2\n",
      "e    3\n",
      "d    4\n",
      "dtype: int64\n"
     ]
    }
   ],
   "source": [
    "import pandas as pd\n",
    "import numpy as np\n",
    "minhalista = list(\"abcedfghijklmnopqrstuvwxyz\")\n",
    "meuarr = np.arange(26)\n",
    "meudict = dict(zip(minhalista, meuarr))\n",
    "\n",
    "item1 = pd.Series(minhalista)\n",
    "item2 = pd.Series(meuarr)\n",
    "item3 = pd.Series(meudict)\n",
    "\n",
    "print(item1.head())\n",
    "print(item2.head())\n",
    "print(item3.head())"
   ]
  },
  {
   "cell_type": "markdown",
   "metadata": {},
   "source": [
    "⚫3- Converta a série “ser” em um dataframe com seu índice como outra coluna no dataframe.\n"
   ]
  },
  {
   "cell_type": "code",
   "execution_count": 14,
   "metadata": {},
   "outputs": [
    {
     "name": "stdout",
     "output_type": "stream",
     "text": [
      "  index  0\n",
      "0     a  0\n",
      "1     b  1\n",
      "2     c  2\n",
      "3     e  3\n",
      "4     d  4\n"
     ]
    }
   ],
   "source": [
    "import pandas as pd\n",
    "import numpy as np\n",
    "minhalista = list(\"abcedfghijklmnopqrstuvwxyz\")\n",
    "meuarr = np.arange(26)\n",
    "meudic = dict(zip(minhalista, meuarr))\n",
    "ser = pd.Series(meudict)\n",
    "#resposta\n",
    "dataframe = ser.to_frame().reset_index()\n",
    "print(dataframe.head())\n",
    "\n"
   ]
  },
  {
   "cell_type": "markdown",
   "metadata": {},
   "source": [
    "⚫4- Combine ‘ser1’ e ‘ser2’ para formar um dataframe "
   ]
  },
  {
   "cell_type": "code",
   "execution_count": 19,
   "metadata": {},
   "outputs": [
    {
     "name": "stdout",
     "output_type": "stream",
     "text": [
      "    index  0  index   0\n",
      "0       0  a      0   0\n",
      "1       1  b      1   1\n",
      "2       2  c      2   2\n",
      "3       3  e      3   3\n",
      "4       4  d      4   4\n",
      "5       5  f      5   5\n",
      "6       6  g      6   6\n",
      "7       7  h      7   7\n",
      "8       8  i      8   8\n",
      "9       9  j      9   9\n",
      "10     10  k     10  10\n",
      "11     11  l     11  11\n",
      "12     12  m     12  12\n",
      "13     13  n     13  13\n",
      "14     14  o     14  14\n",
      "15     15  p     15  15\n",
      "16     16  q     16  16\n",
      "17     17  r     17  17\n",
      "18     18  s     18  18\n",
      "19     19  t     19  19\n",
      "20     20  u     20  20\n",
      "21     21  v     21  21\n",
      "22     22  w     22  22\n",
      "23     23  x     23  23\n",
      "24     24  y     24  24\n",
      "25     25  z     25  25\n"
     ]
    }
   ],
   "source": [
    "import numpy as np\n",
    "import pandas as pd\n",
    "ser1 = pd.Series(list('abcedfghijklmnopqrstuvwxyz'))\n",
    "ser2 = pd.Series(np.arange(26))\n",
    "dataframe1 = ser1.to_frame().reset_index()\n",
    "dataframe2 = ser2.to_frame().reset_index()\n",
    "df = pd.concat([dataframe1, dataframe2], axis=1)\n",
    "print(df)"
   ]
  },
  {
   "cell_type": "markdown",
   "metadata": {},
   "source": [
    "⚫5- Atribua um nome a série “ser” chamando-a de ‘alfabeto’."
   ]
  },
  {
   "cell_type": "code",
   "execution_count": 21,
   "metadata": {},
   "outputs": [
    {
     "name": "stdout",
     "output_type": "stream",
     "text": [
      "0     a\n",
      "1     b\n",
      "2     c\n",
      "3     e\n",
      "4     d\n",
      "5     f\n",
      "6     g\n",
      "7     h\n",
      "8     i\n",
      "9     j\n",
      "10    k\n",
      "11    l\n",
      "12    m\n",
      "13    n\n",
      "14    o\n",
      "15    p\n",
      "16    q\n",
      "17    r\n",
      "18    s\n",
      "19    t\n",
      "20    u\n",
      "21    v\n",
      "22    w\n",
      "23    x\n",
      "24    y\n",
      "25    z\n",
      "Name: Alfabeto, dtype: object\n"
     ]
    }
   ],
   "source": [
    "import pandas as pd\n",
    "ser = pd.Series(list('abcedfghijklmnopqrstuvwxyz'))\n",
    "#resposta\n",
    "ser.name = 'Alfabeto'\n",
    "print (ser)"
   ]
  },
  {
   "cell_type": "code",
   "execution_count": null,
   "metadata": {},
   "outputs": [],
   "source": []
  },
  {
   "cell_type": "code",
   "execution_count": null,
   "metadata": {},
   "outputs": [],
   "source": []
  }
 ],
 "metadata": {
  "kernelspec": {
   "display_name": "Python 3",
   "language": "python",
   "name": "python3"
  },
  "language_info": {
   "codemirror_mode": {
    "name": "ipython",
    "version": 3
   },
   "file_extension": ".py",
   "mimetype": "text/x-python",
   "name": "python",
   "nbconvert_exporter": "python",
   "pygments_lexer": "ipython3",
   "version": "3.7.1"
  }
 },
 "nbformat": 4,
 "nbformat_minor": 2
}
